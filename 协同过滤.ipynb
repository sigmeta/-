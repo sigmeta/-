{
 "cells": [
  {
   "cell_type": "code",
   "execution_count": null,
   "metadata": {
    "collapsed": true
   },
   "outputs": [],
   "source": [
    "import pandas as pd\n",
    "import numpy as np\n",
    "from pandas import *\n",
    "from numpy import *\n",
    "import re\n",
    "from numpy import linalg as la  "
   ]
  },
  {
   "cell_type": "code",
   "execution_count": null,
   "metadata": {
    "collapsed": true
   },
   "outputs": [],
   "source": [
    "#计算时间\n",
    "def count_time(s1,s2):\n",
    "    t1=int(s1.split(':')[0])*60*60+int(s1.split(':')[1])*60+int(s1.split(':')[2])\n",
    "    t2=int(s2.split(':')[0])*60*60+int(s2.split(':')[1])*60+int(s2.split(':')[2])\n",
    "    if t2<t1:\n",
    "        t2+=24*60*60\n",
    "    return t2-t1\n",
    "\n",
    "#求余弦\n",
    "def cosSim(inA,inB):\n",
    "    num = float(inA.T*inB)\n",
    "    denom = la.norm(inA)*la.norm(inB)\n",
    "    return 0.5+0.5*(num/denom)\n",
    "\n",
    "#先求整体相似矩阵\n",
    "def similarMat(dataMat,simMeas=cosSim):\n",
    "    U,Sigma,VT = la.svd(dataMat)\n",
    "    Sig2=Sigma**2\n",
    "    for i in range(Sig2.shape[0]): #找到达到90能量的奇异值数目\n",
    "        if sum(Sig2[:i]) > sum(Sig2)*0.9:\n",
    "            s=i\n",
    "            break\n",
    "    n = shape(dataMat)[1]\n",
    "    m = shape(dataMat)[0]\n",
    "    M=np.zeros((n,n))\n",
    "    Sig = mat(eye(s)*Sigma[:s]) #arrange Sig into a diagonal matrix  \n",
    "    xformedItems = dataMat.T * U[:,:s] * Sig.I  #create transformed items  \n",
    "    for i in range(n):\n",
    "        for j in range(i+1,n):  \n",
    "            similarity = simMeas(xformedItems[i,:].T,xformedItems[j,:].T)\n",
    "            M[i,j]=similarity\n",
    "            M[j,i]=similarity\n",
    "            print('the %d and %d similarity is: %f'%(i, j, similarity))\n",
    "    return M\n",
    "#奇异值分解\n",
    "def svdEst(dataMat, user, simMat, item):\n",
    "    simTotal = 0.0; ratSimTotal = 0.0\n",
    "    n = shape(dataMat)[1]\n",
    "    for j in range(n): \n",
    "        userRating = dataMat[user,j]  \n",
    "        if userRating == 0 or j==item: continue  \n",
    "        similarity = simMat[item,j]\n",
    "        simTotal += similarity  \n",
    "        ratSimTotal += similarity * userRating  \n",
    "    if simTotal == 0: return 0  \n",
    "    else: return ratSimTotal/simTotal\n",
    "#simMat=similarMat(mat(A)) #求出相似矩阵\n",
    "#按照用户推荐\n",
    "def recommend(dataMat,user,simMat,N=3,simMeas=cosSim,estMethod=svdEst):\n",
    "    #寻找未评级的物品  \n",
    "    unratedItems=nonzero(dataMat[user,:].A==0)[1]  \n",
    "    if len(unratedItems)==0: return 'you rated everything'  \n",
    "    itemScores=[]  \n",
    "    for item in unratedItems: \n",
    "        estimatedScore=estMethod(dataMat,user,simMat,item) #对每一个未评分物品，调用standEst()来产生该物品的预测得分  \n",
    "        itemScores.append((item,estimatedScore)) #该物品的编号和估计得分值放入一个元素列表itemScores中  \n",
    "    #对itemScores进行从大到小排序，返回前N个未评分物品  \n",
    "    return sorted(itemScores,key=lambda jj:jj[1],reverse=True)[:N]  "
   ]
  },
  {
   "cell_type": "code",
   "execution_count": null,
   "metadata": {},
   "outputs": [],
   "source": [
    "df=pd.read_csv('点播信息.csv',encoding='gbk')\n",
    "\n",
    "#整理节目名称\n",
    "for i in range(len(df)):\n",
    "    print(i)\n",
    "    st=df.loc[i,'影片名称']\n",
    "    st=re.sub('：.*','',st)\n",
    "    st=re.sub('\\(\\S+\\)','',st)\n",
    "    st=re.sub('【\\S+】','',st)\n",
    "    st=re.sub('\\S+月\\S+日','',st)\n",
    "    df.loc[i,'name']=st.strip()\n",
    "\n",
    "#整理用户号\n",
    "a=list(set(df.loc[:,'用户号'].tolist()))\n",
    "a.sort()\n",
    "dic={}\n",
    "for i in range(len(a)):\n",
    "    dic[a[i]]=i\n",
    "\n",
    "#整理矩阵\n",
    "z=pd.DataFrame(0,index=[d for d in range(len(dic))],columns=sorted(list(set(df.loc[:,'name'].tolist()))))\n",
    "for i in range(len(df)):\n",
    "    z.loc[dic[df.loc[i,'用户号']],df.loc[i,'name']]+=(count_time(df.loc[i,'观看开始时间'],df.loc[i,'观看结束时间'])//60)\n",
    "    #z.loc[dic[df.loc[i,'用户号']],df.loc[i,'name']]=1\n",
    "A=z.as_matrix()"
   ]
  },
  {
   "cell_type": "code",
   "execution_count": null,
   "metadata": {},
   "outputs": [],
   "source": [
    "#求出整体相关矩阵\n",
    "simMat=similarMat(mat(A))"
   ]
  },
  {
   "cell_type": "code",
   "execution_count": null,
   "metadata": {
    "collapsed": true
   },
   "outputs": [],
   "source": [
    "#按照用户推荐\n",
    "recommend(mat(A),2,simMat)"
   ]
  }
 ],
 "metadata": {
  "kernelspec": {
   "display_name": "Python 3",
   "language": "python",
   "name": "python3"
  },
  "language_info": {
   "codemirror_mode": {
    "name": "ipython",
    "version": 3
   },
   "file_extension": ".py",
   "mimetype": "text/x-python",
   "name": "python",
   "nbconvert_exporter": "python",
   "pygments_lexer": "ipython3",
   "version": "3.5.2"
  }
 },
 "nbformat": 4,
 "nbformat_minor": 2
}
